{
 "cells": [
  {
   "cell_type": "code",
   "execution_count": 1,
   "metadata": {},
   "outputs": [
    {
     "name": "stdout",
     "output_type": "stream",
     "text": [
      "(6000, 784) (1000, 784)\n",
      "(6000,) (1000,)\n"
     ]
    }
   ],
   "source": [
    "from __future__ import print_function\n",
    "\n",
    "import numpy as np\n",
    "import matplotlib.pyplot as plt\n",
    "from sklearn.linear_model import LogisticRegression\n",
    "def read_data(filename):\n",
    "    with open(filename, 'r') as f:\n",
    "        lines = f.readlines()\n",
    "    \n",
    "    num_points = len(lines)\n",
    "    dim_points = 28 * 28\n",
    "    data = np.empty((num_points, dim_points))\n",
    "    labels = np.empty(num_points)\n",
    "    \n",
    "    for ind, line in enumerate(lines):\n",
    "        num = line.split(',')\n",
    "        labels[ind] = int(num[0])\n",
    "        data[ind] = [ int(x) for x in num[1:] ]\n",
    "        \n",
    "    return (data, labels)\n",
    "\n",
    "train_data, train_labels = read_data(\"sample_train.csv\")\n",
    "test_data, test_labels = read_data(\"sample_test.csv\")\n",
    "\n",
    "print(train_data.shape, test_data.shape)\n",
    "print(train_labels.shape, test_labels.shape)"
   ]
  },
  {
   "cell_type": "code",
   "execution_count": 2,
   "metadata": {},
   "outputs": [],
   "source": [
    "classifiers = []\n",
    "for i in range(10):\n",
    "    for j in range(10):\n",
    "        X = []\n",
    "        Y = []\n",
    "        if i == j:\n",
    "            continue\n",
    "        for k in range((train_data.shape[0])):\n",
    "            if int(train_labels[k]) == i:\n",
    "                X.append(train_data[k])\n",
    "                Y.append(1)\n",
    "            if int(train_labels[k]) == j:\n",
    "                X.append(train_data[k])\n",
    "                Y.append(-1)\n",
    "        clf = LogisticRegression(solver = 'liblinear', max_iter = 100000).fit(X, Y)\n",
    "        classifiers.append(clf)"
   ]
  },
  {
   "cell_type": "code",
   "execution_count": 3,
   "metadata": {},
   "outputs": [
    {
     "name": "stdout",
     "output_type": "stream",
     "text": [
      "Accuracy =  90.0 %\n"
     ]
    }
   ],
   "source": [
    "acc = 0\n",
    "for k in range(len(test_data)):\n",
    "    c = 0\n",
    "    freq = np.zeros(10)\n",
    "    for i in range(10):\n",
    "        for j in range(10):\n",
    "            if i == j:\n",
    "                continue\n",
    "            pred = classifiers[c].predict(test_data[k].reshape(1, -1))\n",
    "            if pred[0] == 1:\n",
    "                freq[i] += 1\n",
    "            elif pred[0] == -1:\n",
    "                freq[j] += 1\n",
    "            else:\n",
    "                assert(False)\n",
    "            c = c + 1\n",
    "    max_f = 0\n",
    "    it = -1\n",
    "    for i in range(10):\n",
    "        if freq[i] > max_f:\n",
    "            max_f = freq[i]\n",
    "            it = i\n",
    "    if it == test_labels[k]:\n",
    "        acc = acc + 1\n",
    "print(\"Accuracy = \", str(acc / len(test_data) * 100), \"%\")"
   ]
  },
  {
   "cell_type": "code",
   "execution_count": null,
   "metadata": {},
   "outputs": [],
   "source": []
  }
 ],
 "metadata": {
  "kernelspec": {
   "display_name": "Python 3",
   "language": "python",
   "name": "python3"
  },
  "language_info": {
   "codemirror_mode": {
    "name": "ipython",
    "version": 3
   },
   "file_extension": ".py",
   "mimetype": "text/x-python",
   "name": "python",
   "nbconvert_exporter": "python",
   "pygments_lexer": "ipython3",
   "version": "3.6.8"
  }
 },
 "nbformat": 4,
 "nbformat_minor": 2
}
